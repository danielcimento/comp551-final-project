{
 "cells": [
  {
   "cell_type": "code",
   "execution_count": 52,
   "metadata": {},
   "outputs": [],
   "source": [
    "# Import statements and global helper methods\n",
    "import numpy as np\n",
    "import nltk\n",
    "import warnings\n",
    "warnings.filterwarnings(\"ignore\", category=DeprecationWarning)\n",
    "warnings.filterwarnings(action='ignore', category=UserWarning, module='gensim')\n",
    "from nltk.corpus import wordnet, stopwords\n",
    "from nltk.stem import WordNetLemmatizer\n",
    "from sklearn.naive_bayes import MultinomialNB, BernoulliNB\n",
    "from sklearn.svm import SVC, LinearSVC\n",
    "from sklearn.feature_extraction.text import CountVectorizer\n",
    "from sklearn.model_selection import GridSearchCV, PredefinedSplit\n",
    "from sklearn.preprocessing import LabelEncoder\n",
    "from tqdm import tqdm_notebook\n",
    "from gensim.models import word2vec\n",
    "from keras.models import Sequential\n",
    "from keras.layers import Dense, Activation\n",
    "from keras.wrappers.scikit_learn import KerasClassifier\n",
    "from keras.utils import np_utils\n",
    "import re"
   ]
  },
  {
   "cell_type": "code",
   "execution_count": 53,
   "metadata": {},
   "outputs": [
    {
     "data": {
      "application/vnd.jupyter.widget-view+json": {
       "model_id": "ef2ae9a3feb64e5a9a1700e58125d89e",
       "version_major": 2,
       "version_minor": 0
      },
      "text/plain": [
       "HBox(children=(IntProgress(value=1, bar_style='info', max=1), HTML(value='')))"
      ]
     },
     "metadata": {},
     "output_type": "display_data"
    },
    {
     "name": "stdout",
     "output_type": "stream",
     "text": [
      "\n"
     ]
    },
    {
     "data": {
      "application/vnd.jupyter.widget-view+json": {
       "model_id": "8791185571c14672b52aa2b75525a570",
       "version_major": 2,
       "version_minor": 0
      },
      "text/plain": [
       "HBox(children=(IntProgress(value=1, bar_style='info', max=1), HTML(value='')))"
      ]
     },
     "metadata": {},
     "output_type": "display_data"
    },
    {
     "name": "stdout",
     "output_type": "stream",
     "text": [
      "\n"
     ]
    },
    {
     "data": {
      "application/vnd.jupyter.widget-view+json": {
       "model_id": "7b659bdca8914a0bbd4e1647467c4cc8",
       "version_major": 2,
       "version_minor": 0
      },
      "text/plain": [
       "HBox(children=(IntProgress(value=1, bar_style='info', max=1), HTML(value='')))"
      ]
     },
     "metadata": {},
     "output_type": "display_data"
    },
    {
     "name": "stdout",
     "output_type": "stream",
     "text": [
      "\n"
     ]
    },
    {
     "data": {
      "application/vnd.jupyter.widget-view+json": {
       "model_id": "b1537a3b812c48f29fc744d99e82db3d",
       "version_major": 2,
       "version_minor": 0
      },
      "text/plain": [
       "HBox(children=(IntProgress(value=1, bar_style='info', max=1), HTML(value='')))"
      ]
     },
     "metadata": {},
     "output_type": "display_data"
    },
    {
     "name": "stdout",
     "output_type": "stream",
     "text": [
      "\n"
     ]
    }
   ],
   "source": [
    "# Load in the data sets\n",
    "\n",
    "raw_sentences = []\n",
    "\n",
    "with open(\"datasets/datasetSentences.txt\", encoding=\"utf-8\") as sentence_file:\n",
    "    # Skip header line\n",
    "    next(sentence_file)\n",
    "    for line in tqdm_notebook(sentence_file):\n",
    "        sentence = line.split(\"\\t\")[1].strip()\n",
    "        raw_sentences.append(sentence)\n",
    "    \n",
    "sentiment_map = {}\n",
    "with open(\"datasets/sentiment_labels.txt\") as sentiment_file:\n",
    "    next(sentiment_file)\n",
    "    for line in tqdm_notebook(sentiment_file):\n",
    "        index, score = tuple(line.split(\"|\"))\n",
    "        score = float(score.strip())\n",
    "        sentiment_map[index] = score\n",
    "    \n",
    "sentence_to_phrase_map = {}\n",
    "with open(\"datasets/dictionary.txt\", encoding=\"utf-8\") as dictionary_file:\n",
    "    for line in tqdm_notebook(dictionary_file):\n",
    "        phrase, phrase_num = tuple(line.split(\"|\"))\n",
    "        sentence_to_phrase_map[phrase] = phrase_num.strip()\n",
    "\n",
    "labelled_sentences = [(sentence, sentiment_map[sentence_to_phrase_map[sentence]]) for sentence in raw_sentences]\n",
    "            \n",
    "splits = ([], [], [])\n",
    "\n",
    "with open(\"datasets/datasetSplit.txt\") as split_file:\n",
    "    next(split_file)\n",
    "    for line in tqdm_notebook(split_file):\n",
    "        index, split = tuple(line.split(\",\"))\n",
    "        index, split = int(index), int(split)\n",
    "        # Splits are labelled 1-3\n",
    "        splits[split - 1].append(labelled_sentences[index - 1])\n",
    "        \n",
    "train_set, test_set, dev_set = splits\n",
    "train_sentences, train_y = zip(*train_set)\n",
    "dev_sentences, dev_y = zip(*dev_set)\n",
    "test_sentences, test_y = zip(*test_set)"
   ]
  },
  {
   "cell_type": "code",
   "execution_count": 54,
   "metadata": {},
   "outputs": [],
   "source": [
    "# Tools for feature extraction\n",
    "\n",
    "# When lemmatizing, we need to convert from NLTK's part of speec\n",
    "# to wordnet's recognized parts of speech\n",
    "def get_wordnet_pos(treebank_pos):\n",
    "    if treebank_pos.startswith('J'):\n",
    "        return wordnet.ADJ\n",
    "    elif treebank_pos.startswith('V'):\n",
    "        return wordnet.VERB\n",
    "    elif treebank_pos.startswith('N'):\n",
    "        return wordnet.NOUN\n",
    "    elif treebank_pos.startswith('R'):\n",
    "        return wordnet.ADV\n",
    "    else:\n",
    "        return wordnet.NOUN\n",
    "\n",
    "def sentence_tokenize(sentence, lem = WordNetLemmatizer()):\n",
    "    tokens = nltk.word_tokenize(sentence)\n",
    "    tagged_tokens = nltk.pos_tag(tokens)\n",
    "    return [lem.lemmatize(w, pos=get_wordnet_pos(pos)) for (w, pos) in tagged_tokens]\n",
    "\n",
    "count_vectorizer = CountVectorizer(\n",
    "    input = \"content\",\n",
    "    tokenizer = sentence_tokenize\n",
    ")\n",
    "\n",
    "tuple_count_vectorizer = CountVectorizer(\n",
    "    input = \"content\",\n",
    "    tokenizer = sentence_tokenize,\n",
    "    ngram_range = (2, 2)\n",
    ")\n",
    "\n",
    "# Fit all the sentences in the training set\n",
    "count_vectorizer.fit(train_sentences)\n",
    "tuple_count_vectorizer.fit(train_sentences)\n",
    "\n",
    "def count_vectorize(sentences, ngram=False):\n",
    "    if ngram:\n",
    "        return tuple_count_vectorizer.transform(sentences)\n",
    "    else:\n",
    "        return count_vectorizer.transform(sentences)"
   ]
  },
  {
   "cell_type": "code",
   "execution_count": 55,
   "metadata": {},
   "outputs": [
    {
     "data": {
      "application/vnd.jupyter.widget-view+json": {
       "model_id": "f5a8c22a85b3481abb8d042cf8c6fd88",
       "version_major": 2,
       "version_minor": 0
      },
      "text/plain": [
       "HBox(children=(IntProgress(value=0, max=8544), HTML(value='')))"
      ]
     },
     "metadata": {},
     "output_type": "display_data"
    },
    {
     "name": "stdout",
     "output_type": "stream",
     "text": [
      "\n"
     ]
    },
    {
     "data": {
      "application/vnd.jupyter.widget-view+json": {
       "model_id": "c17dd752646b4c78905d84ab0e8dae69",
       "version_major": 2,
       "version_minor": 0
      },
      "text/plain": [
       "HBox(children=(IntProgress(value=0, max=1101), HTML(value='')))"
      ]
     },
     "metadata": {},
     "output_type": "display_data"
    },
    {
     "name": "stdout",
     "output_type": "stream",
     "text": [
      "\n"
     ]
    },
    {
     "data": {
      "application/vnd.jupyter.widget-view+json": {
       "model_id": "4f716e7c07f74fd4a5264c5e99d949e6",
       "version_major": 2,
       "version_minor": 0
      },
      "text/plain": [
       "HBox(children=(IntProgress(value=0, max=2210), HTML(value='')))"
      ]
     },
     "metadata": {},
     "output_type": "display_data"
    },
    {
     "name": "stdout",
     "output_type": "stream",
     "text": [
      "\n"
     ]
    },
    {
     "data": {
      "application/vnd.jupyter.widget-view+json": {
       "model_id": "92aa50971a0c4ebeba67c29aaba31365",
       "version_major": 2,
       "version_minor": 0
      },
      "text/plain": [
       "HBox(children=(IntProgress(value=0, max=8544), HTML(value='')))"
      ]
     },
     "metadata": {},
     "output_type": "display_data"
    },
    {
     "name": "stdout",
     "output_type": "stream",
     "text": [
      "\n"
     ]
    },
    {
     "data": {
      "application/vnd.jupyter.widget-view+json": {
       "model_id": "d585099e38834914b2b0ad882972a940",
       "version_major": 2,
       "version_minor": 0
      },
      "text/plain": [
       "HBox(children=(IntProgress(value=0, max=1101), HTML(value='')))"
      ]
     },
     "metadata": {},
     "output_type": "display_data"
    },
    {
     "name": "stdout",
     "output_type": "stream",
     "text": [
      "\n"
     ]
    },
    {
     "data": {
      "application/vnd.jupyter.widget-view+json": {
       "model_id": "4514e0f8a6b54c828f5b3ff7e7b83ccf",
       "version_major": 2,
       "version_minor": 0
      },
      "text/plain": [
       "HBox(children=(IntProgress(value=0, max=2210), HTML(value='')))"
      ]
     },
     "metadata": {},
     "output_type": "display_data"
    },
    {
     "name": "stdout",
     "output_type": "stream",
     "text": [
      "\n"
     ]
    }
   ],
   "source": [
    "# Label conversion\n",
    "def coarse_label(sentiment):\n",
    "    if sentiment >= 0.5:\n",
    "        return \"Positive\"\n",
    "    else:\n",
    "        return \"Negative\"\n",
    "    \n",
    "def fine_label(sentiment):\n",
    "    if sentiment <= 0.2:\n",
    "        return \"Very Negative\"\n",
    "    elif sentiment <= 0.4:\n",
    "        return \"Negative\"\n",
    "    elif sentiment <= 0.6:\n",
    "        return \"Neutral\"\n",
    "    elif sentiment <= 0.8:\n",
    "        return \"Positive\"\n",
    "    else:\n",
    "        return \"Very Positive\"\n",
    "    \n",
    "coarse_train_y = [coarse_label(y) for y in tqdm_notebook(train_y)]\n",
    "coarse_dev_y = [coarse_label(y) for y in tqdm_notebook(dev_y)]\n",
    "coarse_test_y = [coarse_label(y) for y in tqdm_notebook(test_y)]\n",
    "\n",
    "fine_train_y = [fine_label(y) for y in tqdm_notebook(train_y)]\n",
    "fine_dev_y = [fine_label(y) for y in tqdm_notebook(dev_y)]\n",
    "fine_test_y = [fine_label(y) for y in tqdm_notebook(test_y)]"
   ]
  },
  {
   "cell_type": "code",
   "execution_count": 56,
   "metadata": {},
   "outputs": [],
   "source": [
    "# Common Setup\n",
    "ps = PredefinedSplit([-1 for s in train_sentences] + [0 for s in dev_sentences])\n",
    "nb_grid = {\"alpha\": [1e-4, 0.01, 0.1, 1.0, 2.0, 10.0]}\n",
    "\n",
    "svm_grid = {\n",
    "#         \"kernel\": [\"linear\", \"poly\", \"rbf\", \"sigmoid\"],\n",
    "#         \"degree\": range(1, 20, 2),\n",
    "        \"C\": [1e-4, 0.01, 0.1, 1.0, 2.0, 10.0], \n",
    "        \"tol\": [1e-4, 0.01, 0.1, 1.0, 2.0, 10.0],\n",
    "        \"max_iter\": range(1000, 10001, 1000)\n",
    "}"
   ]
  },
  {
   "cell_type": "code",
   "execution_count": 57,
   "metadata": {},
   "outputs": [],
   "source": [
    "# Vectorizing\n",
    "\n",
    "count_Xs = count_vectorize(train_sentences + dev_sentences)\n",
    "count_test_Xs = count_vectorize(test_sentences)\n",
    "\n",
    "bigram_Xs = count_vectorize(train_sentences + dev_sentences, ngram=True)\n",
    "bigram_test_Xs = count_vectorize(test_sentences, ngram=True)"
   ]
  },
  {
   "cell_type": "code",
   "execution_count": 58,
   "metadata": {},
   "outputs": [
    {
     "name": "stdout",
     "output_type": "stream",
     "text": [
      "{'alpha': 1.0}\n",
      "0.7683257918552037\n",
      "{'alpha': 1.0}\n",
      "0.39592760180995473\n",
      "{'alpha': 1.0}\n",
      "0.7710407239819005\n",
      "{'alpha': 1.0}\n",
      "0.40180995475113124\n"
     ]
    }
   ],
   "source": [
    "# Naive Bayes\n",
    "\n",
    "# BernoulliNB Training (Coarse)\n",
    "bnb = BernoulliNB()\n",
    "bnb_grid = GridSearchCV(bnb, nb_grid, cv=ps, refit=False)\n",
    "bnb_grid.fit(count_Xs, coarse_train_y + coarse_dev_y)\n",
    "\n",
    "# BernoulliNB Results (Coarse)\n",
    "print(bnb_grid.best_params_)\n",
    "bnb.set_params(**bnb_grid.best_params_)\n",
    "bnb.fit(count_Xs[0:len(train_sentences)], coarse_train_y)\n",
    "print(bnb.score(count_test_Xs, coarse_test_y))\n",
    "\n",
    "# BernoulliNB Training (Fine)\n",
    "bnb_grid.fit(count_Xs, fine_train_y + fine_dev_y)\n",
    "\n",
    "# BernoulliNB Results (Fine)\n",
    "print(bnb_grid.best_params_)\n",
    "bnb.set_params(**bnb_grid.best_params_)\n",
    "bnb.fit(count_Xs[0:len(train_sentences)], fine_train_y)\n",
    "print(bnb.score(count_test_Xs, fine_test_y))\n",
    "\n",
    "# MultinomialNB Training (Coarse)\n",
    "mnb = MultinomialNB()\n",
    "mnb_grid = GridSearchCV(mnb, nb_grid, cv=ps, refit=False)\n",
    "mnb_grid.fit(count_Xs, coarse_train_y + coarse_dev_y)\n",
    "\n",
    "# MultinomialNB Results (Coarse)\n",
    "print(mnb_grid.best_params_)\n",
    "mnb.set_params(**mnb_grid.best_params_)\n",
    "mnb.fit(count_Xs[0:len(train_sentences)], coarse_train_y)\n",
    "print(mnb.score(count_test_Xs, coarse_test_y))\n",
    "\n",
    "# MultinomialNB Training (Fine)\n",
    "mnb_grid.fit(count_Xs, fine_train_y + fine_dev_y)\n",
    "\n",
    "# MultinomialNB Results (Fine)\n",
    "print(mnb_grid.best_params_)\n",
    "mnb.set_params(**mnb_grid.best_params_)\n",
    "mnb.fit(count_Xs[0:len(train_sentences)], fine_train_y)\n",
    "print(mnb.score(count_test_Xs, fine_test_y))"
   ]
  },
  {
   "cell_type": "code",
   "execution_count": 60,
   "metadata": {},
   "outputs": [
    {
     "name": "stdout",
     "output_type": "stream",
     "text": [
      "{'alpha': 0.1}\n",
      "0.711764705882353\n",
      "{'alpha': 0.1}\n",
      "0.3556561085972851\n",
      "{'alpha': 1.0}\n",
      "0.7303167420814479\n",
      "{'alpha': 1.0}\n",
      "0.36787330316742084\n"
     ]
    }
   ],
   "source": [
    "# Bigram Naive Bayes\n",
    "\n",
    "# BernoulliNB Training (Coarse)\n",
    "b_bnb = BernoulliNB()\n",
    "b_bnb_grid = GridSearchCV(b_bnb, nb_grid, cv=ps, refit=False)\n",
    "b_bnb_grid.fit(bigram_Xs, coarse_train_y + coarse_dev_y)\n",
    "\n",
    "# BernoulliNB Results (Coarse)\n",
    "print(b_bnb_grid.best_params_)\n",
    "b_bnb.set_params(**b_bnb_grid.best_params_)\n",
    "b_bnb.fit(bigram_Xs[0:len(train_sentences)], coarse_train_y)\n",
    "print(b_bnb.score(bigram_test_Xs, coarse_test_y))\n",
    "\n",
    "# BernoulliNB Training (Fine)\n",
    "b_bnb_grid.fit(bigram_Xs, fine_train_y + fine_dev_y)\n",
    "\n",
    "# BernoulliNB Results (Fine)\n",
    "print(b_bnb_grid.best_params_)\n",
    "b_bnb.set_params(**b_bnb_grid.best_params_)\n",
    "b_bnb.fit(bigram_Xs[0:len(train_sentences)], fine_train_y)\n",
    "print(b_bnb.score(bigram_test_Xs, fine_test_y))\n",
    "\n",
    "# MultinomialNB Training (Coarse)\n",
    "b_mnb = MultinomialNB()\n",
    "b_mnb_grid = GridSearchCV(b_mnb, nb_grid, cv=ps, refit=False)\n",
    "b_mnb_grid.fit(bigram_Xs, coarse_train_y + coarse_dev_y)\n",
    "\n",
    "# MultinomialNB Results (Coarse)\n",
    "print(b_mnb_grid.best_params_)\n",
    "b_mnb.set_params(**b_mnb_grid.best_params_)\n",
    "b_mnb.fit(bigram_Xs[0:len(train_sentences)], coarse_train_y)\n",
    "print(b_mnb.score(bigram_test_Xs, coarse_test_y))\n",
    "\n",
    "# MultinomialNB Training (Fine)\n",
    "b_mnb_grid.fit(bigram_Xs, fine_train_y + fine_dev_y)\n",
    "\n",
    "# MultinomialNB Results(Fine)\n",
    "print(b_mnb_grid.best_params_)\n",
    "b_mnb.set_params(**b_mnb_grid.best_params_)\n",
    "b_mnb.fit(bigram_Xs[0:len(train_sentences)], fine_train_y)\n",
    "print(b_mnb.score(bigram_test_Xs, fine_test_y))"
   ]
  },
  {
   "cell_type": "code",
   "execution_count": null,
   "metadata": {},
   "outputs": [
    {
     "name": "stderr",
     "output_type": "stream",
     "text": [
      "c:\\users\\danie\\appdata\\local\\programs\\python\\python36\\lib\\site-packages\\sklearn\\svm\\base.py:922: ConvergenceWarning: Liblinear failed to converge, increase the number of iterations.\n",
      "  \"the number of iterations.\", ConvergenceWarning)\n"
     ]
    },
    {
     "name": "stdout",
     "output_type": "stream",
     "text": [
      "{'C': 0.1, 'max_iter': 9000, 'tol': 1.0}\n",
      "0.7633484162895927\n",
      "{'C': 0.01, 'max_iter': 4000, 'tol': 2.0}\n",
      "0.40316742081447965\n"
     ]
    }
   ],
   "source": [
    "# SVM\n",
    "\n",
    "# Linear SVM Training (Coarse)\n",
    "svm = LinearSVC()\n",
    "svm_grid = GridSearchCV(svm, svm_grid, cv=ps, refit=False)\n",
    "svm_grid.fit(count_Xs, coarse_train_y + coarse_dev_y)\n",
    "\n",
    "# Linear SVM Results (Coarse)\n",
    "print(svm_grid.best_params_)\n",
    "svm.set_params(**svm_grid.best_params_)\n",
    "svm.fit(count_Xs[0:len(train_sentences)], coarse_train_y)\n",
    "print(svm.score(count_test_Xs, coarse_test_y))\n",
    "\n",
    "# Linear SVM Training (Fine)\n",
    "svm_grid.fit(count_Xs, fine_train_y + fine_dev_y)\n",
    "\n",
    "# Linear SVM Results (Fine)\n",
    "print(svm_grid.best_params_)\n",
    "svm.set_params(**svm_grid.best_params_)\n",
    "svm.fit(count_Xs[0:len(train_sentences)], fine_train_y)\n",
    "print(svm.score(count_test_Xs, fine_test_y))"
   ]
  },
  {
   "cell_type": "raw",
   "metadata": {},
   "source": [
    "# Word Vector Averaging\n",
    "\n",
    "def review_wordlist(review, remove_stopwords=False):\n",
    "    review_text = review\n",
    "    # 2. Removing non-letter.\n",
    "    review_text = re.sub(\"[^a-zA-Z]\",\" \",review_text)\n",
    "    # 3. Converting to lower case and splitting\n",
    "    words = review_text.lower().split()\n",
    "    # 4. Optionally remove stopwords\n",
    "    if remove_stopwords:\n",
    "        stops = set(stopwords.words(\"english\"))     \n",
    "        words = [w for w in words if not w in stops]\n",
    "    \n",
    "    return(words)\n",
    "\n",
    "num_features = 100  # Word vector dimensionality\n",
    "min_word_count = 5 # Minimum word count\n",
    "num_workers = 2     # Number of parallel threads\n",
    "context = 5        # Context window size\n",
    "downsampling = 1e-3 # (0.001) Downsample setting for frequent words\n",
    "\n",
    "combined_training_sentences = list(train_sentences + dev_sentences)\n",
    "tokenized_sentences = []\n",
    "for sentence in combined_training_sentences:\n",
    "    tokenized_sentences.append(review_wordlist(sentence, remove_stopwords=False))\n",
    "\n",
    "model = word2vec.Word2Vec(tokenized_sentences, min_count=1)\n",
    "\n",
    "model.train(tokenized_sentences, total_examples=len(tokenized_sentences), epochs=10)\n",
    "\n",
    "# Function to average all word vectors in a review\n",
    "def featureVecMethod(words, model, num_features):\n",
    "    # Pre-initialising empty numpy array for speed\n",
    "    featureVec = np.zeros(num_features,dtype=\"float32\")\n",
    "    nwords = 0\n",
    "    \n",
    "    #Converting Index2Word which is a list to a set for better speed in the execution.\n",
    "    index2word_set = set(model.wv.index2word)\n",
    "    \n",
    "    for word in  words:\n",
    "        if word in index2word_set:\n",
    "            nwords = nwords + 1\n",
    "            featureVec = np.add(featureVec,model[word])\n",
    "    \n",
    "    # Dividing the result by number of words to get average\n",
    "    if nwords == 0:\n",
    "        print(words)\n",
    "        return featureVec\n",
    "    featureVec = np.divide(featureVec, nwords)\n",
    "    return featureVec\n",
    "\n",
    "# Function for calculating average word vectors for all reviews\n",
    "def getAvgFeatureVecs(reviews, model, num_features):\n",
    "    counter = 0\n",
    "    reviewFeatureVecs = np.zeros((len(reviews),num_features),dtype=\"float32\")\n",
    "    for review in reviews:\n",
    "        # Printing a status message every 1000th review\n",
    "        if counter%1000 == 0:\n",
    "            print(\"Review %d of %d\"%(counter,len(reviews)))\n",
    "            \n",
    "        reviewFeatureVecs[counter] = featureVecMethod(review, model, num_features)\n",
    "        counter = counter+1\n",
    "        \n",
    "    return reviewFeatureVecs\n",
    "    \n",
    "trainDataVecs = getAvgFeatureVecs(tokenized_sentences, model, num_features)\n",
    "\n",
    "filtered_test_reviews = []\n",
    "for review in test_sentences:\n",
    "    filtered_test_reviews.append(review_wordlist(review, remove_stopwords=False))\n",
    "    \n",
    "testDataVecs = getAvgFeatureVecs(filtered_test_reviews, model, num_features)\n",
    "\n",
    "clf = LinearSVC(max_iter=20000)\n",
    "clf.fit(trainDataVecs, coarse_train_y + coarse_dev_y)\n",
    "\n",
    "print(clf.score(testDataVecs, coarse_test_y))\n",
    "\n",
    "clf.fit(trainDataVecs, fine_train_y + fine_dev_y)\n",
    "\n",
    "print(clf.score(testDataVecs, fine_test_y))"
   ]
  },
  {
   "cell_type": "code",
   "execution_count": null,
   "metadata": {},
   "outputs": [],
   "source": [
    "# Recurrent Neural Networks\n",
    "\n",
    "nn_grid = {\n",
    "#     'epochs': [10, 100, 200, 500, 1000],\n",
    "#     'batch_size': [5, 10, 100, 1000]\n",
    "    'epochs': [100, 200],\n",
    "    'batch_size': [5]\n",
    "}\n",
    "\n",
    "fine_encoder = LabelEncoder()\n",
    "fine_encoder.fit(fine_train_y)\n",
    "coarse_encoder = LabelEncoder()\n",
    "coarse_encoder.fit(coarse_train_y)\n",
    "\n",
    "encoded_fine_y = fine_encoder.transform(fine_train_y + fine_dev_y)\n",
    "encoded_fine_test_y = fine_encoder.transform(fine_test_y)\n",
    "\n",
    "encoded_coarse_y = coarse_encoder.transform(coarse_train_y + coarse_dev_y)\n",
    "encoded_coarse_test_y = coarse_encoder.transform(coarse_test_y)\n",
    "\n",
    "def fine_count_model():\n",
    "    model = Sequential([\n",
    "        Dense(32, input_dim=count_Xs.shape[1]),\n",
    "        Activation('relu'),\n",
    "        Dense(5),\n",
    "        Activation('softmax')\n",
    "    ])\n",
    "    model.compile(loss='categorical_crossentropy', optimizer='adam', metrics=['accuracy'])\n",
    "    return model\n",
    "\n",
    "fine_count_nn = GridSearchCV(KerasClassifier(build_fn=fine_count_model, verbose=0), nn_grid, cv=ps, refit=False)\n",
    "    \n",
    "fine_count_nn.fit(count_Xs, np_utils.to_categorical(encoded_fine_y))\n",
    "print(fine_count_nn.score(count_test_Xs, np_utils.to_categorical(encoded_fine_test_y)))\n",
    "print(fine_count_nn.best_params_)\n",
    "\n",
    "def fine_bigram_model():\n",
    "    model = Sequential([\n",
    "        Dense(32, input_dim=bigram_Xs.shape[1]),\n",
    "        Activation('relu'),\n",
    "        Dense(5),\n",
    "        Activation('softmax')\n",
    "    ])\n",
    "    model.compile(loss='categorical_crossentropy', optimizer='adam', metrics=['accuracy'])\n",
    "    return model\n",
    "\n",
    "fine_bigram_nn = GridSearchCV(KerasClassifier(build_fn=fine_bigram_model, verbose=0), nn_grid, cv=ps, refit=False)\n",
    "\n",
    "fine_bigram_nn.fit(bigram_Xs, np_utils.to_categorical(encoded_fine_y))\n",
    "print(fine_bigram_nn.score(bigram_test_Xs, np_utils.to_categorical(encoded_fine_test_y)))\n",
    "print(fine_bigram_nn.best_params_)"
   ]
  },
  {
   "cell_type": "code",
   "execution_count": null,
   "metadata": {},
   "outputs": [],
   "source": []
  }
 ],
 "metadata": {
  "kernelspec": {
   "display_name": "Python 3",
   "language": "python",
   "name": "python3"
  },
  "language_info": {
   "codemirror_mode": {
    "name": "ipython",
    "version": 3
   },
   "file_extension": ".py",
   "mimetype": "text/x-python",
   "name": "python",
   "nbconvert_exporter": "python",
   "pygments_lexer": "ipython3",
   "version": "3.6.7"
  }
 },
 "nbformat": 4,
 "nbformat_minor": 2
}
