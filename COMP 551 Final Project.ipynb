{
 "cells": [
  {
   "cell_type": "code",
   "execution_count": 45,
   "metadata": {},
   "outputs": [],
   "source": [
    "# Import statements and global helper methods\n",
    "import numpy as np\n",
    "import nltk\n",
    "import warnings\n",
    "warnings.filterwarnings(\"ignore\", category=DeprecationWarning)\n",
    "warnings.filterwarnings(action='ignore', category=UserWarning, module='gensim')\n",
    "from nltk.corpus import wordnet, stopwords\n",
    "from nltk.stem import WordNetLemmatizer\n",
    "from sklearn.ensemble import RandomForestClassifier\n",
    "from sklearn.feature_extraction.text import CountVectorizer\n",
    "from sklearn.linear_model import LogisticRegression\n",
    "from sklearn.model_selection import GridSearchCV, PredefinedSplit\n",
    "from sklearn.naive_bayes import MultinomialNB, BernoulliNB\n",
    "from sklearn.neighbors import KNeighborsClassifier\n",
    "from sklearn.preprocessing import LabelEncoder\n",
    "from sklearn.svm import SVC, LinearSVC\n",
    "from tqdm import tqdm_notebook\n",
    "from gensim.models import word2vec\n",
    "# from keras.models import Sequential\n",
    "# from keras.layers import Dense, Activation\n",
    "# from keras.wrappers.scikit_learn import KerasClassifier\n",
    "# from keras.utils import np_utils\n",
    "import re"
   ]
  },
  {
   "cell_type": "code",
   "execution_count": 46,
   "metadata": {},
   "outputs": [],
   "source": [
    "stanford_run = True"
   ]
  },
  {
   "cell_type": "code",
   "execution_count": 47,
   "metadata": {},
   "outputs": [
    {
     "data": {
      "application/vnd.jupyter.widget-view+json": {
       "model_id": "6fbb07b779b04c5b98fd832b5aabb2e8",
       "version_major": 2,
       "version_minor": 0
      },
      "text/plain": [
       "HBox(children=(IntProgress(value=1, bar_style='info', max=1), HTML(value='')))"
      ]
     },
     "metadata": {},
     "output_type": "display_data"
    },
    {
     "name": "stdout",
     "output_type": "stream",
     "text": [
      "\n"
     ]
    },
    {
     "data": {
      "application/vnd.jupyter.widget-view+json": {
       "model_id": "580a48ab1ffd411e9bf6b257bc43e511",
       "version_major": 2,
       "version_minor": 0
      },
      "text/plain": [
       "HBox(children=(IntProgress(value=1, bar_style='info', max=1), HTML(value='')))"
      ]
     },
     "metadata": {},
     "output_type": "display_data"
    },
    {
     "name": "stdout",
     "output_type": "stream",
     "text": [
      "\n"
     ]
    },
    {
     "data": {
      "application/vnd.jupyter.widget-view+json": {
       "model_id": "87c9e871e1f24dc3ba74391cfea6ef67",
       "version_major": 2,
       "version_minor": 0
      },
      "text/plain": [
       "HBox(children=(IntProgress(value=1, bar_style='info', max=1), HTML(value='')))"
      ]
     },
     "metadata": {},
     "output_type": "display_data"
    },
    {
     "name": "stdout",
     "output_type": "stream",
     "text": [
      "\n"
     ]
    },
    {
     "data": {
      "application/vnd.jupyter.widget-view+json": {
       "model_id": "f9bb0944cd6c42a3a60b78459541807d",
       "version_major": 2,
       "version_minor": 0
      },
      "text/plain": [
       "HBox(children=(IntProgress(value=1, bar_style='info', max=1), HTML(value='')))"
      ]
     },
     "metadata": {},
     "output_type": "display_data"
    },
    {
     "name": "stdout",
     "output_type": "stream",
     "text": [
      "\n"
     ]
    }
   ],
   "source": [
    "if stanford_run:\n",
    "    # Load in the data sets\n",
    "\n",
    "    raw_sentences = []\n",
    "\n",
    "    with open(\"datasets/datasetSentences.txt\", encoding=\"utf-8\") as sentence_file:\n",
    "        # Skip header line\n",
    "        next(sentence_file)\n",
    "        for line in tqdm_notebook(sentence_file):\n",
    "            sentence = line.split(\"\\t\")[1].strip()\n",
    "            raw_sentences.append(sentence)\n",
    "\n",
    "    sentiment_map = {}\n",
    "    with open(\"datasets/sentiment_labels.txt\") as sentiment_file:\n",
    "        next(sentiment_file)\n",
    "        for line in tqdm_notebook(sentiment_file):\n",
    "            index, score = tuple(line.split(\"|\"))\n",
    "            score = float(score.strip())\n",
    "            sentiment_map[index] = score\n",
    "\n",
    "    sentence_to_phrase_map = {}\n",
    "    with open(\"datasets/dictionary.txt\", encoding=\"utf-8\") as dictionary_file:\n",
    "        for line in tqdm_notebook(dictionary_file):\n",
    "            phrase, phrase_num = tuple(line.split(\"|\"))\n",
    "            sentence_to_phrase_map[phrase] = phrase_num.strip()\n",
    "\n",
    "    labelled_sentences = [(sentence, sentiment_map[sentence_to_phrase_map[sentence]]) for sentence in raw_sentences]\n",
    "\n",
    "    splits = ([], [], [])\n",
    "\n",
    "    with open(\"datasets/datasetSplit.txt\") as split_file:\n",
    "        next(split_file)\n",
    "        for line in tqdm_notebook(split_file):\n",
    "            index, split = tuple(line.split(\",\"))\n",
    "            index, split = int(index), int(split)\n",
    "            # Splits are labelled 1-3\n",
    "            splits[split - 1].append(labelled_sentences[index - 1])\n",
    "\n",
    "    train_set, test_set, dev_set = splits\n",
    "    train_sentences, train_y = zip(*train_set)\n",
    "    dev_sentences, dev_y = zip(*dev_set)\n",
    "    test_sentences, test_y = zip(*test_set)\n",
    "    \n",
    "     #Copy data, for filtering neutral coarse labels\n",
    "    train_sentences_coarse = train_sentences[:]\n",
    "    dev_sentences_coarse = dev_sentences[:]\n",
    "    test_sentences_coarse = test_sentences[:]"
   ]
  },
  {
   "cell_type": "code",
   "execution_count": 48,
   "metadata": {},
   "outputs": [],
   "source": [
    "if not stanford_run:\n",
    "    #Method used to load the data from the given files\n",
    "    def openFile(fileName):\n",
    "        with open(fileName, 'r', encoding = 'utf-8') as file:\n",
    "            split_lines = [line.strip().split(\"\\t\") for line in tqdm_notebook(file)]\n",
    "            reviews, scores = zip(*split_lines)\n",
    "            return reviews, scores\n",
    "\n",
    "    #loading all the data\n",
    "    train_sentences, coarse_train_y = openFile('datasets/IMDB-train.txt')\n",
    "    dev_sentences, coarse_dev_y = openFile('datasets/IMDB-valid.txt')\n",
    "    test_sentences, coarse_test_y = openFile('datasets/IMDB-test.txt')\n",
    "    \n",
    "     #Copy data, for filtering neutral coarse labels\n",
    "    train_sentences_coarse = train_sentences[:]\n",
    "    dev_sentences_coarse = dev_sentences[:]\n",
    "    test_sentences_coarse = test_sentences[:]"
   ]
  },
  {
   "cell_type": "code",
   "execution_count": 49,
   "metadata": {},
   "outputs": [
    {
     "data": {
      "application/vnd.jupyter.widget-view+json": {
       "model_id": "9de0dbf046444393b38b1d91289ac538",
       "version_major": 2,
       "version_minor": 0
      },
      "text/plain": [
       "HBox(children=(IntProgress(value=0, max=8544), HTML(value='')))"
      ]
     },
     "metadata": {},
     "output_type": "display_data"
    },
    {
     "name": "stdout",
     "output_type": "stream",
     "text": [
      "\n"
     ]
    },
    {
     "data": {
      "application/vnd.jupyter.widget-view+json": {
       "model_id": "4bb3295175f243129d5c0fd8a94b184c",
       "version_major": 2,
       "version_minor": 0
      },
      "text/plain": [
       "HBox(children=(IntProgress(value=0, max=8544), HTML(value='')))"
      ]
     },
     "metadata": {},
     "output_type": "display_data"
    },
    {
     "name": "stdout",
     "output_type": "stream",
     "text": [
      "\n"
     ]
    }
   ],
   "source": [
    "# Tools for feature extraction\n",
    "\n",
    "# When lemmatizing, we need to convert from NLTK's part of speec\n",
    "# to wordnet's recognized parts of speech\n",
    "def get_wordnet_pos(treebank_pos):\n",
    "    if treebank_pos.startswith('J'):\n",
    "        return wordnet.ADJ\n",
    "    elif treebank_pos.startswith('V'):\n",
    "        return wordnet.VERB\n",
    "    elif treebank_pos.startswith('N'):\n",
    "        return wordnet.NOUN\n",
    "    elif treebank_pos.startswith('R'):\n",
    "        return wordnet.ADV\n",
    "    else:\n",
    "        return wordnet.NOUN\n",
    "\n",
    "def sentence_tokenize(sentence, lem = WordNetLemmatizer()):\n",
    "    tokens = nltk.word_tokenize(sentence)\n",
    "    tagged_tokens = nltk.pos_tag(tokens)\n",
    "    return [lem.lemmatize(w, pos=get_wordnet_pos(pos)) for (w, pos) in tagged_tokens]\n",
    "\n",
    "count_vectorizer = CountVectorizer(\n",
    "    input = \"content\",\n",
    "    tokenizer = sentence_tokenize\n",
    ")\n",
    "\n",
    "tuple_count_vectorizer = CountVectorizer(\n",
    "    input = \"content\",\n",
    "    tokenizer = sentence_tokenize,\n",
    "    ngram_range = (1, 2)\n",
    ")\n",
    "\n",
    "# Fit all the sentences in the training set\n",
    "count_vectorizer.fit(tqdm_notebook(train_sentences))\n",
    "tuple_count_vectorizer.fit(tqdm_notebook(train_sentences))\n",
    "\n",
    "def count_vectorize(sentences, ngram=False):\n",
    "    if ngram:\n",
    "        return tuple_count_vectorizer.transform(tqdm_notebook(sentences))\n",
    "    else:\n",
    "        return count_vectorizer.transform(tqdm_notebook(sentences))"
   ]
  },
  {
   "cell_type": "code",
   "execution_count": 50,
   "metadata": {},
   "outputs": [
    {
     "data": {
      "application/vnd.jupyter.widget-view+json": {
       "model_id": "dab4b8bedd4142e19aa42e2ec8c06eae",
       "version_major": 2,
       "version_minor": 0
      },
      "text/plain": [
       "HBox(children=(IntProgress(value=0, max=8544), HTML(value='')))"
      ]
     },
     "metadata": {},
     "output_type": "display_data"
    },
    {
     "name": "stdout",
     "output_type": "stream",
     "text": [
      "\n"
     ]
    },
    {
     "data": {
      "application/vnd.jupyter.widget-view+json": {
       "model_id": "501f8b2272df4085a1eb6f9f297ab238",
       "version_major": 2,
       "version_minor": 0
      },
      "text/plain": [
       "HBox(children=(IntProgress(value=0, max=1101), HTML(value='')))"
      ]
     },
     "metadata": {},
     "output_type": "display_data"
    },
    {
     "name": "stdout",
     "output_type": "stream",
     "text": [
      "\n"
     ]
    },
    {
     "data": {
      "application/vnd.jupyter.widget-view+json": {
       "model_id": "b613799d051948db87bb09a3af580e0e",
       "version_major": 2,
       "version_minor": 0
      },
      "text/plain": [
       "HBox(children=(IntProgress(value=0, max=2210), HTML(value='')))"
      ]
     },
     "metadata": {},
     "output_type": "display_data"
    },
    {
     "name": "stdout",
     "output_type": "stream",
     "text": [
      "\n"
     ]
    },
    {
     "data": {
      "application/vnd.jupyter.widget-view+json": {
       "model_id": "1f6b89b573474745b6c717a14dc5e760",
       "version_major": 2,
       "version_minor": 0
      },
      "text/plain": [
       "HBox(children=(IntProgress(value=0, max=8544), HTML(value='')))"
      ]
     },
     "metadata": {},
     "output_type": "display_data"
    },
    {
     "name": "stdout",
     "output_type": "stream",
     "text": [
      "\n"
     ]
    },
    {
     "data": {
      "application/vnd.jupyter.widget-view+json": {
       "model_id": "ed24bb063c244f85a8cb270a8f3dcb83",
       "version_major": 2,
       "version_minor": 0
      },
      "text/plain": [
       "HBox(children=(IntProgress(value=0, max=1101), HTML(value='')))"
      ]
     },
     "metadata": {},
     "output_type": "display_data"
    },
    {
     "name": "stdout",
     "output_type": "stream",
     "text": [
      "\n"
     ]
    },
    {
     "data": {
      "application/vnd.jupyter.widget-view+json": {
       "model_id": "56993497276b419e9ccf51ae18d21ae0",
       "version_major": 2,
       "version_minor": 0
      },
      "text/plain": [
       "HBox(children=(IntProgress(value=0, max=2210), HTML(value='')))"
      ]
     },
     "metadata": {},
     "output_type": "display_data"
    },
    {
     "name": "stdout",
     "output_type": "stream",
     "text": [
      "\n"
     ]
    }
   ],
   "source": [
    "# Label conversion\n",
    "def coarse_label(sentiment):\n",
    "    if sentiment > 0.6:\n",
    "        return \"Positive\"\n",
    "    elif sentiment < 0.4:\n",
    "        return \"Negative\"\n",
    "    else:\n",
    "        return \"Neutral\"\n",
    "    \n",
    "def fine_label(sentiment):\n",
    "    if sentiment <= 0.2:\n",
    "        return \"Very Negative\"\n",
    "    elif sentiment <= 0.4:\n",
    "        return \"Negative\"\n",
    "    elif sentiment <= 0.6:\n",
    "        return \"Neutral\"\n",
    "    elif sentiment <= 0.8:\n",
    "        return \"Positive\"\n",
    "    else:\n",
    "        return \"Very Positive\"\n",
    "\n",
    "if stanford_run:\n",
    "    coarse_train_y = [coarse_label(y) for y in tqdm_notebook(train_y)]\n",
    "    coarse_dev_y = [coarse_label(y) for y in tqdm_notebook(dev_y)]\n",
    "    coarse_test_y = [coarse_label(y) for y in tqdm_notebook(test_y)]\n",
    "\n",
    "    fine_train_y = [fine_label(y) for y in tqdm_notebook(train_y)]\n",
    "    fine_dev_y = [fine_label(y) for y in tqdm_notebook(dev_y)]\n",
    "    fine_test_y = [fine_label(y) for y in tqdm_notebook(test_y)]\n",
    "\n",
    "# Remove neutral coarse labels and sentences from the earlier copies of sentences\n",
    "def remove_neutral_labels(coarse_sentences, coarse_labels):\n",
    "    non_neutral_sentences = []\n",
    "    non_neutral_labels = []\n",
    "    for i in range(len(coarse_labels)):\n",
    "        if coarse_labels[i] != \"Neutral\":\n",
    "            non_neutral_sentences += (coarse_sentences[i],)\n",
    "            non_neutral_labels.append(coarse_labels[i])\n",
    "            \n",
    "            \n",
    "    return non_neutral_sentences, non_neutral_labels\n",
    "\n",
    "if stanford_run:\n",
    "    train_sentences_coarse, coarse_train_y = remove_neutral_labels(train_sentences_coarse, coarse_train_y)\n",
    "    dev_sentences_coarse, coarse_dev_y = remove_neutral_labels(dev_sentences_coarse, coarse_dev_y)\n",
    "    test_sentences_coarse, coarse_test_y = remove_neutral_labels(test_sentences_coarse, coarse_test_y)"
   ]
  },
  {
   "cell_type": "code",
   "execution_count": 51,
   "metadata": {},
   "outputs": [],
   "source": [
    "# Common Setup\n",
    "ps = PredefinedSplit([-1 for s in train_sentences] + [0 for s in dev_sentences])\n",
    "ps_coarse = PredefinedSplit([-1 for s in train_sentences_coarse] + [0 for s in dev_sentences_coarse])"
   ]
  },
  {
   "cell_type": "code",
   "execution_count": 114,
   "metadata": {},
   "outputs": [
    {
     "data": {
      "application/vnd.jupyter.widget-view+json": {
       "model_id": "14ed7c0242d34c91941a555d7b1b8bb3",
       "version_major": 2,
       "version_minor": 0
      },
      "text/plain": [
       "HBox(children=(IntProgress(value=0, max=25000), HTML(value='')))"
      ]
     },
     "metadata": {},
     "output_type": "display_data"
    },
    {
     "data": {
      "application/vnd.jupyter.widget-view+json": {
       "model_id": "f373838848cc4fc3b0d4b8274ea27501",
       "version_major": 2,
       "version_minor": 0
      },
      "text/plain": [
       "HBox(children=(IntProgress(value=0, max=25000), HTML(value='')))"
      ]
     },
     "metadata": {},
     "output_type": "display_data"
    },
    {
     "data": {
      "application/vnd.jupyter.widget-view+json": {
       "model_id": "3ab0ea177ab4404da73639ebfd31f6f7",
       "version_major": 2,
       "version_minor": 0
      },
      "text/plain": [
       "HBox(children=(IntProgress(value=0, max=25000), HTML(value='')))"
      ]
     },
     "metadata": {},
     "output_type": "display_data"
    },
    {
     "data": {
      "application/vnd.jupyter.widget-view+json": {
       "model_id": "a58f9cd991f141f797db0d73cf9a70b4",
       "version_major": 2,
       "version_minor": 0
      },
      "text/plain": [
       "HBox(children=(IntProgress(value=0, max=25000), HTML(value='')))"
      ]
     },
     "metadata": {},
     "output_type": "display_data"
    },
    {
     "data": {
      "application/vnd.jupyter.widget-view+json": {
       "model_id": "8167df689b2140e39b7645d23ce97e5b",
       "version_major": 2,
       "version_minor": 0
      },
      "text/plain": [
       "HBox(children=(IntProgress(value=0, max=25000), HTML(value='')))"
      ]
     },
     "metadata": {},
     "output_type": "display_data"
    },
    {
     "data": {
      "application/vnd.jupyter.widget-view+json": {
       "model_id": "31e56a9f45b74ee7aa4657ecb043a8c5",
       "version_major": 2,
       "version_minor": 0
      },
      "text/plain": [
       "HBox(children=(IntProgress(value=0, max=25000), HTML(value='')))"
      ]
     },
     "metadata": {},
     "output_type": "display_data"
    },
    {
     "data": {
      "application/vnd.jupyter.widget-view+json": {
       "model_id": "736579159d084ee6bd949e72615a122e",
       "version_major": 2,
       "version_minor": 0
      },
      "text/plain": [
       "HBox(children=(IntProgress(value=0, max=25000), HTML(value='')))"
      ]
     },
     "metadata": {},
     "output_type": "display_data"
    },
    {
     "data": {
      "application/vnd.jupyter.widget-view+json": {
       "model_id": "fab37eb306b6420e94b8dea04d33e795",
       "version_major": 2,
       "version_minor": 0
      },
      "text/plain": [
       "HBox(children=(IntProgress(value=0, max=25000), HTML(value='')))"
      ]
     },
     "metadata": {},
     "output_type": "display_data"
    }
   ],
   "source": [
    "# Vectorizing\n",
    "\n",
    "count_Xs = count_vectorize(train_sentences + dev_sentences)\n",
    "count_test_Xs = count_vectorize(test_sentences)\n",
    "\n",
    "bigram_Xs = count_vectorize(train_sentences + dev_sentences, ngram=True)\n",
    "bigram_test_Xs = count_vectorize(test_sentences, ngram=True)\n",
    "\n",
    "# Fit and then vectorize on coarse sentences\n",
    "count_vectorizer.fit(train_sentences_coarse)\n",
    "tuple_count_vectorizer.fit(train_sentences_coarse)\n",
    "\n",
    "count_Xs_coarse = count_vectorize(train_sentences_coarse + dev_sentences_coarse)\n",
    "count_test_Xs_coarse = count_vectorize(test_sentences_coarse) \n",
    "\n",
    "bigram_Xs_coarse = count_vectorize(train_sentences_coarse + dev_sentences_coarse, ngram=True)\n",
    "bigram_test_Xs_coarse = count_vectorize(test_sentences_coarse, ngram=True)"
   ]
  },
  {
   "cell_type": "code",
   "execution_count": 115,
   "metadata": {},
   "outputs": [],
   "source": [
    "def test_model(underlying_model, param_grid, fine=False, bigrams=False):\n",
    "    if fine and not stanford_run:\n",
    "        return\n",
    "    \n",
    "    if not fine:\n",
    "        cv = ps_coarse\n",
    "        train_y, dev_y, test_y = coarse_train_y, coarse_dev_y, coarse_test_y\n",
    "    else:\n",
    "        cv = ps\n",
    "        train_y, dev_y, test_y = fine_train_y, fine_dev_y, fine_test_y\n",
    "    if bigrams:\n",
    "        if not fine:\n",
    "            Xs, test_Xs = bigram_Xs_coarse, bigram_test_Xs_coarse\n",
    "        else:\n",
    "            Xs, test_Xs = bigram_Xs, bigram_test_Xs\n",
    "    else:\n",
    "        if not fine:\n",
    "            Xs, test_Xs = count_Xs_coarse, count_test_Xs_coarse\n",
    "        else:\n",
    "            Xs, test_Xs = count_Xs, count_test_Xs\n",
    "    grid = GridSearchCV(underlying_model, param_grid, cv=cv)\n",
    "    grid.fit(Xs, train_y + dev_y)\n",
    "    \n",
    "    print(grid.best_params_)\n",
    "    print(grid.score(test_Xs, test_y))"
   ]
  },
  {
   "cell_type": "code",
   "execution_count": 116,
   "metadata": {},
   "outputs": [
    {
     "name": "stdout",
     "output_type": "stream",
     "text": [
      "Bag of Words:\n",
      "{'alpha': 1.0}\n",
      "0.82856\n",
      "{'alpha': 1.0}\n",
      "0.80684\n",
      "Bigrams:\n",
      "{'alpha': 0.1}\n",
      "0.85252\n",
      "{'alpha': 0.1}\n",
      "0.84368\n"
     ]
    }
   ],
   "source": [
    "# Naive Bayes\n",
    "nb_grid = {\"alpha\": [1e-4, 0.01, 0.1, 1.0, 2.0, 10.0]}\n",
    "\n",
    "\n",
    "bnb = BernoulliNB()\n",
    "mnb = MultinomialNB()\n",
    "\n",
    "print(\"Bag of Words:\")\n",
    "\n",
    "test_model(bnb, nb_grid)\n",
    "test_model(bnb, nb_grid, fine=True)\n",
    "\n",
    "test_model(mnb, nb_grid)\n",
    "test_model(mnb, nb_grid, fine=True)\n",
    "\n",
    "print(\"Bigrams:\")\n",
    "\n",
    "test_model(bnb, nb_grid, bigrams=True)\n",
    "test_model(bnb, nb_grid, bigrams=True, fine=True)\n",
    "\n",
    "test_model(mnb, nb_grid, bigrams=True)\n",
    "test_model(mnb, nb_grid, bigrams=True, fine=True)"
   ]
  },
  {
   "cell_type": "code",
   "execution_count": 117,
   "metadata": {},
   "outputs": [
    {
     "name": "stdout",
     "output_type": "stream",
     "text": [
      "{'C': 0.01, 'max_iter': 3000, 'tol': 2.0}\n",
      "0.87732\n"
     ]
    }
   ],
   "source": [
    "# SVM\n",
    "svm_grid = {\n",
    "        \"C\": [1e-4, 0.01, 0.1, 1.0, 2.0, 10.0], \n",
    "        \"tol\": [1e-4, 0.01, 0.1, 1.0, 2.0, 10.0],\n",
    "        \"max_iter\": range(1000, 5001, 1000)\n",
    "}\n",
    "\n",
    "svm = LinearSVC()\n",
    "test_model(svm, svm_grid)\n",
    "test_model(svm, svm_grid, fine=True)"
   ]
  },
  {
   "cell_type": "code",
   "execution_count": 118,
   "metadata": {},
   "outputs": [
    {
     "name": "stdout",
     "output_type": "stream",
     "text": [
      "{'criterion': 'entropy', 'max_depth': 2800, 'n_estimators': 100}\n",
      "0.84284\n"
     ]
    }
   ],
   "source": [
    "# Random Forest\n",
    "rf_grid = {\n",
    "    \"n_estimators\": [10, 20, 30, 40, 50, 60, 70, 80, 90, 100],\n",
    "    \"criterion\": [\"gini\", \"entropy\"],\n",
    "    \"max_depth\": [2800, 3000, 3200]\n",
    "}\n",
    "\n",
    "rf = RandomForestClassifier()\n",
    "test_model(rf, rf_grid)\n",
    "test_model(rf, rf_grid, fine=True)"
   ]
  },
  {
   "cell_type": "code",
   "execution_count": 119,
   "metadata": {},
   "outputs": [
    {
     "name": "stdout",
     "output_type": "stream",
     "text": [
      "{'C': 2.0, 'penalty': 'l1', 'tol': 0.1}\n",
      "0.85788\n"
     ]
    }
   ],
   "source": [
    "# Logistic Regression\n",
    "lr_grid = {\n",
    "    \"penalty\": [\"l1\", \"l2\"],\n",
    "    \"tol\": [1e-4, 0.01, 0.1, 1.0, 2.0, 10.0],\n",
    "    \"C\": [1e-4, 0.01, 0.1, 1.0, 2.0, 10.0]\n",
    "}\n",
    "\n",
    "lr = LogisticRegression()\n",
    "test_model(lr, lr_grid)\n",
    "test_model(lr, lr_grid, fine=True)"
   ]
  },
  {
   "cell_type": "code",
   "execution_count": 120,
   "metadata": {},
   "outputs": [
    {
     "name": "stdout",
     "output_type": "stream",
     "text": [
      "{'n_neighbors': 70, 'weights': 'distance'}\n",
      "0.6588\n"
     ]
    }
   ],
   "source": [
    "# K-Nearest Neighbors\n",
    "kn_grid = {\n",
    "    \"n_neighbors\": [15, 20, 30, 50, 70],\n",
    "    \"weights\": [\"uniform\", \"distance\"]\n",
    "}\n",
    "\n",
    "kn = KNeighborsClassifier()\n",
    "test_model(kn, kn_grid)\n",
    "test_model(kn, kn_grid, fine=True)"
   ]
  },
  {
   "cell_type": "code",
   "execution_count": null,
   "metadata": {},
   "outputs": [],
   "source": [
    "# Word Vector Averaging\n",
    "\n",
    "import warnings\n",
    "warnings.filterwarnings(\"ignore\")\n",
    "\n",
    "def review_wordlist(review, remove_stopwords=False):\n",
    "    review_text = review\n",
    "    # 2. Removing non-letter.\n",
    "    review_text = re.sub(\"[^a-zA-Z]\",\" \",review_text)\n",
    "    # 3. Converting to lower case and splitting\n",
    "    words = review_text.lower().split()\n",
    "    # 4. Optionally remove stopwords\n",
    "    if remove_stopwords:\n",
    "        stops = set(stopwords.words(\"english\"))     \n",
    "        words = [w for w in words if not w in stops]\n",
    "    \n",
    "    return words\n",
    "\n",
    "# Function to average all word vectors in a review\n",
    "def featureVecMethod(words, model, num_features):\n",
    "    # Pre-initialising empty numpy array for speed\n",
    "    featureVec = np.zeros(num_features,dtype=\"float32\")\n",
    "    nwords = 0\n",
    "    \n",
    "    #Converting Index2Word which is a list to a set for better speed in the execution.\n",
    "    index2word_set = set(model.wv.index2word)\n",
    "    \n",
    "    for word in  words:\n",
    "        if word in index2word_set:\n",
    "            nwords = nwords + 1\n",
    "            featureVec = np.add(featureVec,model[word])\n",
    "    \n",
    "    # Dividing the result by number of words to get average\n",
    "    if nwords == 0:\n",
    "        return featureVec\n",
    "    featureVec = np.divide(featureVec, nwords)\n",
    "    return featureVec\n",
    "\n",
    "# Function for calculating average word vectors for all reviews\n",
    "def getAvgFeatureVecs(reviews, model, num_features):\n",
    "    counter = 0\n",
    "    reviewFeatureVecs = np.zeros((len(reviews),num_features),dtype=\"float32\")\n",
    "    for review in reviews:\n",
    "\n",
    "        reviewFeatureVecs[counter] = featureVecMethod(review, model, num_features)\n",
    "        counter = counter+1\n",
    "        \n",
    "    return reviewFeatureVecs\n",
    "\n",
    "num_features = [100,150,200]  # Word vector dimensionality\n",
    "contexts = [15,17,20]      # Context window size\n",
    "epochs = [10,20]\n",
    "min_counts = [1,3,5]\n",
    "#sg = [0,1]\n",
    "\n",
    "tokenized_sentences_fine = []\n",
    "tokenized_sentences_coarse = []\n",
    "\n",
    "for sentence in list(train_sentences):\n",
    "    tokenized_sentences_fine.append(review_wordlist(sentence, remove_stopwords=False))\n",
    "\n",
    "for sentence in list(train_sentences_coarse):\n",
    "    tokenized_sentences_coarse.append(review_wordlist(sentence, remove_stopwords=False))\n",
    "\n",
    "# Hypertune word2vec average model parameters\n",
    "best_score_coarse = 0\n",
    "best_score_fine = 0\n",
    "best_hyperparameters_coarse = []\n",
    "best_hyperparameters_fine = []\n",
    "\n",
    "for num_feature in num_features:\n",
    "    for context in contexts:\n",
    "        for epoch in epochs:\n",
    "             for min_count in min_counts:\n",
    "                model_fine = word2vec.Word2Vec(tokenized_sentences_fine, size=num_feature, min_count=min_count, window = context, sample=1e-2, sg=1, iter=epoch)\n",
    "                model_coarse = word2vec.Word2Vec(tokenized_sentences_coarse, size=num_feature, min_count=min_count, window = context, sample=1e-2, sg=1, iter=epoch)\n",
    "\n",
    "                # To make the model memory efficient\n",
    "                model_coarse.wv.init_sims(replace=True)\n",
    "                model_fine.wv.init_sims(replace=True)\n",
    "\n",
    "                trainDataVecs_fine = getAvgFeatureVecs(tokenized_sentences_fine, model_fine, num_feature)\n",
    "                trainDataVecs_coarse = getAvgFeatureVecs(tokenized_sentences_coarse, model_coarse, num_feature)\n",
    "\n",
    "                filtered_dev_reviews_fine = []\n",
    "                filtered_dev_reviews_coarse = []\n",
    "\n",
    "                for review in dev_sentences:\n",
    "                    filtered_dev_reviews_fine.append(review_wordlist(review, remove_stopwords=False))\n",
    "\n",
    "                for review in dev_sentences_coarse:\n",
    "                    filtered_dev_reviews_coarse.append(review_wordlist(review, remove_stopwords=False))\n",
    "\n",
    "                devDataVecs_fine = getAvgFeatureVecs(filtered_dev_reviews_fine, model_fine, num_feature)\n",
    "                devDataVecs_coarse = getAvgFeatureVecs(filtered_dev_reviews_coarse, model_coarse, num_feature)\n",
    "\n",
    "                clf = LogisticRegression()\n",
    "                clf.fit(trainDataVecs_coarse, coarse_train_y)\n",
    "                current_score_coarse = clf.score(devDataVecs_coarse, coarse_dev_y)\n",
    "                if current_score_coarse > best_score_coarse:\n",
    "                    best_score_coarse = current_score_coarse\n",
    "                    best_hyperparameters_coarse = [num_feature,context,epoch, min_count]\n",
    "\n",
    "                clf = LogisticRegression()\n",
    "                clf.fit(trainDataVecs_fine, fine_train_y)\n",
    "                current_score_fine = clf.score(devDataVecs_fine, fine_dev_y)\n",
    "                if current_score_fine > best_score_fine:\n",
    "                    best_score_fine = current_score_fine\n",
    "                    best_hyperparameters_fine = [num_feature,context,epoch, min_count]\n",
    "\n",
    "\n",
    "print('Best hyperparameters (Coarse):', best_hyperparameters_coarse)\n",
    "print('Best validation score (Coarse):', best_score_coarse)\n",
    "print('Best hyperparameters (Fine):', best_hyperparameters_fine)\n",
    "print('Best validation score (Fine):', best_score_fine)\n",
    "\n",
    "filtered_train_dev_reviews_coarse = []\n",
    "filtered_train_dev_reviews_fine = []\n",
    "filtered_test_reviews_coarse = []\n",
    "filtered_test_reviews_fine = []\n",
    "\n",
    "for review in list(train_sentences_coarse + dev_sentences_coarse):\n",
    "    filtered_train_dev_reviews_coarse.append(review_wordlist(review, remove_stopwords=False))\n",
    "\n",
    "for review in list(train_sentences + dev_sentences):\n",
    "    filtered_train_dev_reviews_fine.append(review_wordlist(review, remove_stopwords=False))\n",
    "\n",
    "for review in test_sentences_coarse:\n",
    "    filtered_test_reviews_coarse.append(review_wordlist(review, remove_stopwords=False))\n",
    "    \n",
    "for review in test_sentences:\n",
    "    filtered_test_reviews_fine.append(review_wordlist(review, remove_stopwords=False))\n",
    "\n",
    "model_coarse_final = word2vec.Word2Vec(filtered_train_dev_reviews_coarse, size=best_hyperparameters_coarse[0], window = best_hyperparameters_coarse[1],iter=best_hyperparameters_coarse[2], min_count=best_hyperparameters_coarse[3], sample=1e-2, sg=1)\n",
    "model_fine_final = word2vec.Word2Vec(filtered_train_dev_reviews_fine, size=best_hyperparameters_fine[0], window = best_hyperparameters_fine[1], iter=best_hyperparameters_fine[2], min_count=best_hyperparameters_fine[3], sample=1e-2, sg=1)\n",
    "model_coarse_final.train(filtered_train_dev_reviews_coarse, total_examples=len(filtered_train_dev_reviews_coarse), epochs=10)\n",
    "model_fine_final.train(filtered_train_dev_reviews_fine, total_examples=len(tokenized_sentences_fine), epochs=10)\n",
    "\n",
    "# To make the model memory efficient\n",
    "model_coarse_final.wv.init_sims(replace=True)\n",
    "model_fine_final.wv.init_sims(replace=True)\n",
    "\n",
    "trainDataVecs_coarse = getAvgFeatureVecs(filtered_train_dev_reviews_coarse, model_coarse_final, best_hyperparameters_coarse[0])\n",
    "trainDataVecs_fine = getAvgFeatureVecs(filtered_train_dev_reviews_fine, model_fine_final, best_hyperparameters_fine[0])\n",
    "testDataVecs_coarse = getAvgFeatureVecs(filtered_test_reviews_coarse, model_coarse_final, best_hyperparameters_coarse[0])\n",
    "testDataVecs_fine = getAvgFeatureVecs(filtered_test_reviews_fine, model_fine_final, best_hyperparameters_fine[0])\n",
    "\n",
    "clf = LogisticRegression()\n",
    "clf.fit(trainDataVecs_coarse, coarse_train_y + coarse_dev_y)\n",
    "test_score_coarse = clf.score(testDataVecs_coarse, coarse_test_y)\n",
    "\n",
    "clf = LogisticRegression()\n",
    "clf.fit(trainDataVecs_fine, fine_train_y + fine_dev_y)\n",
    "test_score_fine = clf.score(testDataVecs_fine, fine_test_y)\n",
    "\n",
    "print('Coarse test score on optimal hyperparameters:', test_score_coarse)\n",
    "print('Fine test score on optimal hyperparameters:', test_score_fine)"
   ]
  },
  {
   "cell_type": "code",
   "execution_count": null,
   "metadata": {},
   "outputs": [],
   "source": [
    "# Hypertune Linear SVM with word2vec using gridsearch\n",
    "svm_grid = {\n",
    "        \"C\": [0.01, 10.0, 13.0, 15.0], \n",
    "        \"tol\": [1e-4, 0.01, 0.1, 1.0, 2.0, 10.0],\n",
    "        'penalty':['l1','l2']\n",
    "}\n",
    "\n",
    "grid = GridSearchCV(LogisticRegression(), param_grid = svm_grid, cv=ps_coarse)\n",
    "grid.fit(trainDataVecs_coarse, coarse_train_y + coarse_dev_y)\n",
    "\n",
    "print(\"Best params with VecAvg representation and SoftMax (coarse labels):\", grid.best_params_)\n",
    "print('Optimal accuracy score with VecAvg representation and SoftMax (coarse labels):', grid.score(testDataVecs_coarse, coarse_test_y))\n",
    "\n",
    "grid = GridSearchCV(LogisticRegression(), param_grid = svm_grid, cv=ps)\n",
    "grid.fit(trainDataVecs_fine, fine_train_y + fine_dev_y)\n",
    "print(\"Best params with VecAvg representation and SoftMax (fine labels):\", grid.best_params_)\n",
    "print('Optimal accuracy score with VecAvg representation and SoftMax (fine labels):', grid.score(testDataVecs_fine, fine_test_y))"
   ]
  },
  {
   "cell_type": "raw",
   "metadata": {},
   "source": [
    "# Recurrent Neural Networks\n",
    "\n",
    "nn_grid = {\n",
    "#     'epochs': [10, 100, 200, 500, 1000],\n",
    "#     'batch_size': [5, 10, 100, 1000]\n",
    "    'epochs': [100, 200],\n",
    "    'batch_size': [5]\n",
    "}\n",
    "\n",
    "fine_encoder = LabelEncoder()\n",
    "fine_encoder.fit(fine_train_y)\n",
    "coarse_encoder = LabelEncoder()\n",
    "coarse_encoder.fit(coarse_train_y)\n",
    "\n",
    "encoded_fine_y = fine_encoder.transform(fine_train_y + fine_dev_y)\n",
    "encoded_fine_test_y = fine_encoder.transform(fine_test_y)\n",
    "\n",
    "encoded_coarse_y = coarse_encoder.transform(coarse_train_y + coarse_dev_y)\n",
    "encoded_coarse_test_y = coarse_encoder.transform(coarse_test_y)\n",
    "\n",
    "def fine_count_model():\n",
    "    model = Sequential([\n",
    "        Dense(32, input_dim=count_Xs.shape[1]),\n",
    "        Activation('relu'),\n",
    "        Dense(5),\n",
    "        Activation('softmax')\n",
    "    ])\n",
    "    model.compile(loss='categorical_crossentropy', optimizer='adam', metrics=['accuracy'])\n",
    "    return model\n",
    "\n",
    "fine_count_nn = GridSearchCV(KerasClassifier(build_fn=fine_count_model, verbose=0), nn_grid, cv=ps, refit=False)\n",
    "    \n",
    "fine_count_nn.fit(count_Xs, np_utils.to_categorical(encoded_fine_y))\n",
    "print(fine_count_nn.score(count_test_Xs, np_utils.to_categorical(encoded_fine_test_y)))\n",
    "print(fine_count_nn.best_params_)\n",
    "\n",
    "def fine_bigram_model():\n",
    "    model = Sequential([\n",
    "        Dense(32, input_dim=bigram_Xs.shape[1]),\n",
    "        Activation('relu'),\n",
    "        Dense(5),\n",
    "        Activation('softmax')\n",
    "    ])\n",
    "    model.compile(loss='categorical_crossentropy', optimizer='adam', metrics=['accuracy'])\n",
    "    return model\n",
    "\n",
    "fine_bigram_nn = GridSearchCV(KerasClassifier(build_fn=fine_bigram_model, verbose=0), nn_grid, cv=ps, refit=False)\n",
    "\n",
    "fine_bigram_nn.fit(bigram_Xs, np_utils.to_categorical(encoded_fine_y))\n",
    "print(fine_bigram_nn.score(bigram_test_Xs, np_utils.to_categorical(encoded_fine_test_y)))\n",
    "print(fine_bigram_nn.best_params_)"
   ]
  },
  {
   "cell_type": "code",
   "execution_count": null,
   "metadata": {},
   "outputs": [],
   "source": []
  }
 ],
 "metadata": {
  "kernelspec": {
   "display_name": "Python 3",
   "language": "python",
   "name": "python3"
  },
  "language_info": {
   "codemirror_mode": {
    "name": "ipython",
    "version": 3
   },
   "file_extension": ".py",
   "mimetype": "text/x-python",
   "name": "python",
   "nbconvert_exporter": "python",
   "pygments_lexer": "ipython3",
   "version": "3.7.0"
  }
 },
 "nbformat": 4,
 "nbformat_minor": 2
}
